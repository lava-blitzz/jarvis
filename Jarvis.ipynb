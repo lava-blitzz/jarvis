{
 "cells": [
  {
   "cell_type": "code",
   "execution_count": 2,
   "id": "304c5e0f",
   "metadata": {},
   "outputs": [
    {
     "name": "stdout",
     "output_type": "stream",
     "text": [
      "Jarvis: Hi there! How can I help you?\n",
      "You: bye\n",
      "Goodbye, have a great day or night!\n"
     ]
    }
   ],
   "source": [
    "import pyttsx3\n",
    "\n",
    "engine=pyttsx3.init()\n",
    "responses={\n",
    "    \"hello\":\"Hi there!\",\n",
    "    \"how are you\":\"I'm a computer program, but I'm here to help!\",\n",
    "    \"who are you\":\"I'm JARVIS, “Just a Really Very Intelligent System”\",\n",
    "    \"iron man\":\"Tony Stark, he is a superhero\",\n",
    "    \"bye\":\"Goodbye, have a great day or night!\",\n",
    "    \"how smart are you\":\"I'm quite a sophisticated AI, I have the ability to understand and respond to human interactions in a conversational manner, and I posses very deep scientific knowledge\"\n",
    "}\n",
    "\n",
    "def get_jarvis_response(user_input):\n",
    "    says=responses.get(user_input,\"I'm not sure how to respond to that.\")\n",
    "    return says\n",
    "\n",
    "rate=engine.getProperty('rate')\n",
    "engine.setProperty('rate',rate-15)\n",
    "voices = engine.getProperty('voices')\n",
    "engine.setProperty('voice', voices[1].id)\n",
    "def start_chat():\n",
    "    print(\"Jarvis: Hi there! How can I help you?\")\n",
    "    while True:\n",
    "        user_input=input(\"You: \").lower()\n",
    "        if user_input==\"bye\":\n",
    "            print(responses[\"bye\"])\n",
    "            engine.say(\"Goodbye, have a great day or night!\")\n",
    "            engine.runAndWait()\n",
    "            break\n",
    "        jarvis_says=get_jarvis_response(user_input)\n",
    "        print(\"Jarvis:\",jarvis_says)\n",
    "        engine.say(jarvis_says)\n",
    "        engine.runAndWait()\n",
    "start_chat()"
   ]
  },
  {
   "cell_type": "code",
   "execution_count": null,
   "id": "fe3daf4d",
   "metadata": {},
   "outputs": [],
   "source": []
  }
 ],
 "metadata": {
  "kernelspec": {
   "display_name": "Python 3 (ipykernel)",
   "language": "python",
   "name": "python3"
  },
  "language_info": {
   "codemirror_mode": {
    "name": "ipython",
    "version": 3
   },
   "file_extension": ".py",
   "mimetype": "text/x-python",
   "name": "python",
   "nbconvert_exporter": "python",
   "pygments_lexer": "ipython3",
   "version": "3.11.5"
  }
 },
 "nbformat": 4,
 "nbformat_minor": 5
}
